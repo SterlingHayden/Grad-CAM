{
  "nbformat": 4,
  "nbformat_minor": 0,
  "metadata": {
    "colab": {
      "provenance": [],
      "private_outputs": true,
      "include_colab_link": true
    },
    "kernelspec": {
      "name": "python3",
      "display_name": "Python 3"
    },
    "language_info": {
      "name": "python"
    }
  },
  "cells": [
    {
      "cell_type": "markdown",
      "metadata": {
        "id": "view-in-github",
        "colab_type": "text"
      },
      "source": [
        "<a href=\"https://colab.research.google.com/github/SterlingHayden/Grad-CAM/blob/main/Large-Scale-Models-In-Pyomo.ipynb\" target=\"_parent\"><img src=\"https://colab.research.google.com/assets/colab-badge.svg\" alt=\"Open In Colab\"/></a>"
      ]
    },
    {
      "cell_type": "markdown",
      "source": [
        "# Lesson 6: Formulating Large-Scale Models in Pyomo"
      ],
      "metadata": {
        "id": "9g4SJmH2H5Dj"
      }
    },
    {
      "cell_type": "markdown",
      "source": [
        "## Objectives"
      ],
      "metadata": {
        "id": "HYQ6-BVNKO8q"
      }
    },
    {
      "cell_type": "markdown",
      "source": [
        "Students will be skilled at\n",
        "1.   implementing and solving large-scale (indexed) models in Pyomo, and outputing/interpreting their results"
      ],
      "metadata": {
        "id": "5zJxHWvHKjT7"
      }
    },
    {
      "cell_type": "markdown",
      "source": [
        "## References"
      ],
      "metadata": {
        "id": "VMpEUBPuKc6Y"
      }
    },
    {
      "cell_type": "markdown",
      "source": [
        "1. [Pyomo Documentation](https://pyomo.readthedocs.io/en/stable/)"
      ],
      "metadata": {
        "id": "BW8hxqfLKshC"
      }
    },
    {
      "cell_type": "markdown",
      "source": [
        "## Example 1: Indexed Resource-Allocation Model"
      ],
      "metadata": {
        "id": "WZNz0nSRpXQE"
      }
    },
    {
      "cell_type": "markdown",
      "source": [
        "### Linear Programming Formulation"
      ],
      "metadata": {
        "id": "-ZColAMe9gWj"
      }
    },
    {
      "cell_type": "markdown",
      "source": [
        "**Sets**\n",
        "\n",
        "* $\\{1,2,\\ldots,m\\}$ = items that can be produced (indexed by $i$)\n",
        "* $\\{1,2,\\ldots,n\\}$ = resources required to produce each item (indexed by $j$)\n",
        "\n",
        "**Parameters**\n",
        "\n",
        "* $p_i = $ profit per unit of item $i$ produced ($i = 1,2,\\ldots,m$)\n",
        "* $a_{ij} = $ units of resource $j$ required to produce one unit of item $i$ ($i = 1,2,\\ldots,m; \\ j = 1,2,\\ldots,n$)\n",
        "* $u_j =$  units of resource $j$ available ($j = 1,2,\\ldots,n$)\n",
        "\n",
        "**Decision Variables**\n",
        "\n",
        "* $x_i = $ number of units of item $i$ to produce ($i = 1,2,\\ldots,m$)\n",
        "\n",
        "**Model**\n",
        "\n",
        "$\\begin{align}\n",
        "\\max \\  & \\sum_{i=1}^m p_ix_i & & \\textrm{(total profit)}\\\\\n",
        "\\textrm{s.t.}\\ & \\sum_{i = 1}^m a_{ij} x_i \\leq u_j, \\ \\forall j = 1,2,\\ldots,n && \\textrm{(limited amount of resource $j$)}\\\\\n",
        "& x_i \\geq 0, \\ \\forall i = 1,2,\\ldots,m &&\n",
        "\\end{align}$\n",
        "\n"
      ],
      "metadata": {
        "id": "-9PaB1PL9pcn"
      }
    },
    {
      "cell_type": "markdown",
      "source": [
        "### Example Data"
      ],
      "metadata": {
        "id": "iyj8T-BM_f05"
      }
    },
    {
      "cell_type": "code",
      "source": [
        "!pip install -q pyomo"
      ],
      "metadata": {
        "id": "KS3UKmKZfQa3"
      },
      "execution_count": null,
      "outputs": []
    },
    {
      "cell_type": "code",
      "source": [
        "!apt-get install -y -qq coinor-cbc"
      ],
      "metadata": {
        "id": "la4-cf-Xi3yD"
      },
      "execution_count": null,
      "outputs": []
    },
    {
      "cell_type": "code",
      "source": [
        "I = [1,2,3,4,5]  # list defining a set of items (indexed by i)\n",
        "J = [1,2]        # list defining a set of resources (indexed by j)\n",
        "\n",
        "p = {1: 10,      # dictionary that contains the profit per unit of item i\n",
        "     2: 15,\n",
        "     3: 35,\n",
        "     4: 25,\n",
        "     5: 50}\n",
        "\n",
        "u = {1: 100,     # dictionary that contains the number of units of resource j available\n",
        "     2: 300}\n",
        "\n",
        "a = {(1,1): 0.5, # dictionary that contains at (i,j) the number of units of resource j required to produce a unit of item i\n",
        "     (1,2): 0.7,\n",
        "     (2,1): 1.1,\n",
        "     (2,2): 1.5,\n",
        "     (3,1): 2.1,\n",
        "     (3,2): 3.7,\n",
        "     (4,1): 0.6,\n",
        "     (4,2): 2.7,\n",
        "     (5,1): 2.0,\n",
        "     (5,2): 5.1}"
      ],
      "metadata": {
        "id": "4yi6BnAw_imZ"
      },
      "execution_count": null,
      "outputs": []
    },
    {
      "cell_type": "code",
      "source": [
        "# don't use too much resource 2\n",
        "# 0.7*x[1] + 1.5*x[2] + 3.7*x[3] + 2.7*x[4] + 5.1*x[5] <= 300\n",
        "a[(1,1)]"
      ],
      "metadata": {
        "id": "AOOAKhLzhS3y"
      },
      "execution_count": null,
      "outputs": []
    },
    {
      "cell_type": "markdown",
      "source": [
        "### Building a Concrete Pyomo Model with Single-Indexed Variables and Sums"
      ],
      "metadata": {
        "id": "hROgPsH5Dddr"
      }
    },
    {
      "cell_type": "code",
      "execution_count": null,
      "metadata": {
        "id": "fzZVTiBiHyuY"
      },
      "outputs": [],
      "source": [
        "#Import Pyomo and define a concrete model\n",
        "import pyomo.environ as pyo\n",
        "model = pyo.ConcreteModel()"
      ]
    },
    {
      "cell_type": "code",
      "source": [
        "# Define index sets for items and resources\n",
        "model.I = pyo.Set(initialize = I)\n",
        "model.J = pyo.Set(initialize = J)\n",
        "model.I.pprint()\n",
        "model.J.pprint()"
      ],
      "metadata": {
        "id": "-klJn555OVmR"
      },
      "execution_count": null,
      "outputs": []
    },
    {
      "cell_type": "code",
      "source": [
        "# Define parameters p, a, and u\n",
        "model.p = pyo.Param(model.I, initialize=p)\n",
        "model.u = pyo.Param(model.J, initialize=u)\n",
        "model.a = pyo.Param(model.I, model.J, initialize=a)"
      ],
      "metadata": {
        "id": "1ZVYQtzGOaWx"
      },
      "execution_count": null,
      "outputs": []
    },
    {
      "cell_type": "code",
      "source": [
        "#Add x-variables to model\n",
        "model.x = pyo.Var(model.I, domain=pyo.NonNegativeReals)"
      ],
      "metadata": {
        "id": "FhRGtlLyBE8S"
      },
      "execution_count": null,
      "outputs": []
    },
    {
      "cell_type": "code",
      "source": [
        "#Define the objective\n",
        "def obj_rule_ex1(model):\n",
        "  return sum(model.p[i]*model.x[i] for i in model.I)\n",
        "\n",
        "model.obj = pyo.Objective(rule = obj_rule_ex1, sense=pyo.maximize)"
      ],
      "metadata": {
        "id": "VTE7OeoTBJcH"
      },
      "execution_count": null,
      "outputs": []
    },
    {
      "cell_type": "code",
      "source": [
        "model.obj.pprint()"
      ],
      "metadata": {
        "id": "g8ZyOaDunDyp"
      },
      "execution_count": null,
      "outputs": []
    },
    {
      "cell_type": "code",
      "source": [
        "#Define the constraints\n",
        "def resource_rule(model, j):\n",
        "  return sum(model.a[i,j]*model.x[i] for i in model.I) <= model.u[j]\n",
        "\n",
        "model.resource_limit = pyo.Constraint(model.J, rule=resource_rule)"
      ],
      "metadata": {
        "id": "ruIfiLwWCddF"
      },
      "execution_count": null,
      "outputs": []
    },
    {
      "cell_type": "code",
      "source": [
        "model.pprint()"
      ],
      "metadata": {
        "id": "zKmg5nejoexn"
      },
      "execution_count": null,
      "outputs": []
    },
    {
      "cell_type": "markdown",
      "source": [
        "### Solving the Model"
      ],
      "metadata": {
        "id": "UR-F4ln0DmRx"
      }
    },
    {
      "cell_type": "code",
      "source": [
        "#Declare the solver as CBC\n",
        "opt = pyo.SolverFactory('cbc')\n",
        "\n",
        "#Solve the model\n",
        "opt.solve(model).write()"
      ],
      "metadata": {
        "id": "LwWOvbh4DHek"
      },
      "execution_count": null,
      "outputs": []
    },
    {
      "cell_type": "markdown",
      "source": [
        "### Retrieving the Results"
      ],
      "metadata": {
        "id": "5Zo_QRqXDpEE"
      }
    },
    {
      "cell_type": "code",
      "source": [
        "#Access the variable values using pprint\n",
        "model.x.pprint()"
      ],
      "metadata": {
        "id": "1TmOvNpXDRyz"
      },
      "execution_count": null,
      "outputs": []
    },
    {
      "cell_type": "markdown",
      "source": [
        "## Example 2: Transportation Problem"
      ],
      "metadata": {
        "id": "Aj3np5k0JLAj"
      }
    },
    {
      "cell_type": "markdown",
      "source": [
        "This example demonstrates formulating and solving a Pyomo model in which variables and constraints have two indices."
      ],
      "metadata": {
        "id": "hyJy94lJpmlJ"
      }
    },
    {
      "cell_type": "markdown",
      "source": [
        "### Problem Description (Adapted from Winston, 2004)"
      ],
      "metadata": {
        "id": "GF85KimdZRHf"
      }
    },
    {
      "cell_type": "markdown",
      "source": [
        "A company supplies goods to customers, who each require 30 units.  The company has four warehouses.  Warehouse 1 has 70 units available and the remaining warehouses each have 50 units available.  The per-unit cost of shipping goods from warehouse to customer are provided in the following table.\n",
        "\n",
        "\\begin{array}{ccccccc} \\hline\n",
        " & \\mbox{Cust. 1} & \\mbox{Cust. 2} & \\mbox{Cust. 3} & \\mbox{Cust. 4}& \\mbox{Cust. 5} & \\mbox{Cust. 6} \\\\ \\hline\n",
        "\\mbox{Warehouse 1} & 15 & 35 & 25 & 20 & 30 & 40\\\\\n",
        "\\mbox{Warehouse 2} & 10 & 50 & 35 & 20 & 25 & 45\\\\\n",
        "\\mbox{Warehouse 3} & 20 & 55 & 40 & 20 & 25 & 35\\\\\n",
        "\\mbox{Warehouse 4} & 25 & 40 & 30 & 35 & 20 & 25\\\\ \\hline\n",
        "\\end{array}\n",
        "\n",
        "How many units should the company ship from each warehouse to each customer to minimize cost?\n",
        "\n",
        "\n",
        "\n",
        "\n",
        "\n",
        "\n"
      ],
      "metadata": {
        "id": "HVIqKH8SIglP"
      }
    },
    {
      "cell_type": "code",
      "source": [
        "I = [1, 2, 3, 4] # set of warehouses, indexed by i\n",
        "J = [1, 2, 3, 4, 5, 6] # set of warehouses, indexed by j\n",
        "\n",
        "c = {(1,1): 15, # dictionary containing the per-unit shipping costs from table\n",
        "     (1,2): 35,\n",
        "     (1,3): 25,\n",
        "     (1,4): 20,\n",
        "     (1,5): 30,\n",
        "     (1,6): 40,\n",
        "     (2,1): 10,\n",
        "     (2,2): 50,\n",
        "     (2,3): 35,\n",
        "     (2,4): 20,\n",
        "     (2,5): 25,\n",
        "     (2,6): 45,\n",
        "     (3,1): 20,\n",
        "     (3,2): 55,\n",
        "     (3,3): 40,\n",
        "     (3,4): 20,\n",
        "     (3,5): 25,\n",
        "     (3,6): 35,\n",
        "     (4,1): 25,\n",
        "     (4,2): 40,\n",
        "     (4,3): 30,\n",
        "     (4,4): 35,\n",
        "     (4,5): 20,\n",
        "     (4,6): 25}\n",
        "\n",
        "b = {1: 70, # dictionary containing the supply of each warehouse\n",
        "     2: 50,\n",
        "     3: 50,\n",
        "     4: 50}\n",
        "\n",
        "d = {1: 30, # dictionary containing the demand of each customer\n",
        "     2: 30,\n",
        "     3: 30,\n",
        "     4: 30,\n",
        "     5: 30,\n",
        "     6: 30}"
      ],
      "metadata": {
        "id": "sspFBlY4ngdz"
      },
      "execution_count": null,
      "outputs": []
    },
    {
      "cell_type": "markdown",
      "source": [
        "### Linear Programming Formulation"
      ],
      "metadata": {
        "id": "8aG-mv4CZYpU"
      }
    },
    {
      "cell_type": "markdown",
      "source": [
        "**Sets**\n",
        "\n",
        "* $\\{1,2,\\ldots,m\\}$ = set of warehouses (indexed by $i$)\n",
        "* $\\{1,2,\\ldots,n\\}$ = set of customers (indexed by $j$)\n",
        "\n",
        "**Parameters**\n",
        "\n",
        "* $b_i =$  supply at warehouse $i$ ($i = 1,2,\\ldots,m$)\n",
        "* $d_j =$  demand of customer $j$ ($j = 1,2,\\ldots,n$)\n",
        "* $c_{ij} = $ cost per unit shipped from warehouse $i$ to customer $j$ ($i = 1,2,\\ldots,m; \\ j = 1,2,\\ldots,n$)\n",
        "\n",
        "**Decision Variables**\n",
        "\n",
        "* $x_{ij} = $ number of units shipped from warehouse $i$ to customer $j$ ($i = 1,2,\\ldots,m; \\ j = 1,2,\\ldots,n$)\n",
        "\n",
        "**Model**\n",
        "\n",
        "$\\begin{align}\n",
        "\\min \\  & \\sum_{i=1}^m \\sum_{j = 1}^n c_{ij}x_{ij} & & \\textrm{(total shipping cost)}\\\\\n",
        "\\textrm{s.t.}\\ & \\sum_{j = 1}^n x_{ij} \\leq b_i, \\ \\forall i = 1,2,\\ldots,m && \\textrm{(supply limit at warehouse $i$)}\\\\\n",
        "&  \\sum_{i = 1}^m x_{ij} \\geq d_j, \\ \\forall j = 1,2,.\\ldots,n && \\textrm{(demand requirement for cust. $j$)} \\\\\n",
        "& x_{ij} \\geq 0, \\ \\forall i = 1,2,\\ldots,m, \\ \\forall j = 1,2,\\ldots,n &&\n",
        "\\end{align}$\n",
        "\n"
      ],
      "metadata": {
        "id": "uMqKQgjgXo4e"
      }
    },
    {
      "cell_type": "markdown",
      "source": [
        "### Building a Concrete Pyomo Model with Double-Indexed Variables and Sums"
      ],
      "metadata": {
        "id": "Hk7bGYfijKAf"
      }
    },
    {
      "cell_type": "code",
      "source": [
        "#Clear the model\n",
        "model.clear()\n",
        "model.pprint()"
      ],
      "metadata": {
        "id": "qfyWO2X7A9hZ"
      },
      "execution_count": null,
      "outputs": []
    },
    {
      "cell_type": "code",
      "source": [
        "#Define index sets for warehouses and customers\n",
        "model.I = pyo.Set(initialize = I)\n",
        "model.J = pyo.Set(initialize = J)\n",
        "model.I.pprint()\n",
        "model.J.pprint()"
      ],
      "metadata": {
        "id": "u8Y1DUPrOw2w"
      },
      "execution_count": null,
      "outputs": []
    },
    {
      "cell_type": "code",
      "source": [
        "#Define parameters c, b, and d\n",
        "model.c = pyo.Param(model.I, model.J, initialize=c)\n",
        "model.b = pyo.Param(model.I, initialize=b)\n",
        "model.d = pyo.Param(model.J, initialize=d)"
      ],
      "metadata": {
        "id": "4i9S9EHVO9VV"
      },
      "execution_count": null,
      "outputs": []
    },
    {
      "cell_type": "code",
      "source": [
        "#Add x-variables to model\n",
        "model.x = pyo.Var(model.I, model.J, domain=pyo.NonNegativeReals)"
      ],
      "metadata": {
        "id": "jJLxKjo7qYQ0"
      },
      "execution_count": null,
      "outputs": []
    },
    {
      "cell_type": "code",
      "source": [
        "#Define the objective\n",
        "def obj_rule_ex2(model):\n",
        "  return sum(model.c[i,j]*model.x[i,j] for i in model.I for j in model.J)\n",
        "\n",
        "model.obj = pyo.Objective(rule=obj_rule_ex2, sense=pyo.minimize)"
      ],
      "metadata": {
        "id": "Wwn3liNDqbhY"
      },
      "execution_count": null,
      "outputs": []
    },
    {
      "cell_type": "code",
      "source": [
        "model.obj.pprint()"
      ],
      "metadata": {
        "id": "IKszMAlN05Js"
      },
      "execution_count": null,
      "outputs": []
    },
    {
      "cell_type": "code",
      "source": [
        "#Add the supply limit constraints\n",
        "def supply_limit_rule(model,i):\n",
        "  return sum(model.x[i,j] for j in model.J) <= model.b[i]\n",
        "\n",
        "model.supply_limit = pyo.Constraint(model.I, rule=supply_limit_rule)"
      ],
      "metadata": {
        "id": "zAB70TRWqd4g"
      },
      "execution_count": null,
      "outputs": []
    },
    {
      "cell_type": "code",
      "source": [
        "model.supply_limit.pprint()"
      ],
      "metadata": {
        "id": "Gv1vHoHp1eSA"
      },
      "execution_count": null,
      "outputs": []
    },
    {
      "cell_type": "code",
      "source": [
        "#Add the demand requirement constraints\n",
        "def demand_rqmt_rule(model,j):\n",
        "  return sum(model.x[i,j] for i in model.I) >= model.d[j]\n",
        "\n",
        "model.deman_rqmt = pyo.Constraint(model.J, rule=demand_rqmt_rule)"
      ],
      "metadata": {
        "id": "5DP4-6k7tUdD"
      },
      "execution_count": null,
      "outputs": []
    },
    {
      "cell_type": "code",
      "source": [
        "model.deman_rqmt.pprint()"
      ],
      "metadata": {
        "id": "sMzIP7TS2HSb"
      },
      "execution_count": null,
      "outputs": []
    },
    {
      "cell_type": "markdown",
      "source": [
        "### Solving the Model"
      ],
      "metadata": {
        "id": "Xpyh6nITnZW7"
      }
    },
    {
      "cell_type": "code",
      "source": [
        "#Declare the solver as CBC\n",
        "opt = pyo.SolverFactory('cbc')\n",
        "\n",
        "#Solve the model\n",
        "opt.solve(model).write()"
      ],
      "metadata": {
        "id": "5yo0eS0BnYYU"
      },
      "execution_count": null,
      "outputs": []
    },
    {
      "cell_type": "markdown",
      "source": [
        "### Retrieving the Results"
      ],
      "metadata": {
        "id": "pxaX6ZmporA0"
      }
    },
    {
      "cell_type": "code",
      "source": [
        "#Access the variable values using pprint\n",
        "model.x.pprint()"
      ],
      "metadata": {
        "id": "NDLOqVRfo8RN"
      },
      "execution_count": null,
      "outputs": []
    },
    {
      "cell_type": "code",
      "source": [
        "#Display a customized table of output\n",
        "print('%4s %4s %5s %5s' % ('from','to','cost','units'))\n",
        "for i in model.I:\n",
        "  for j in model.J:\n",
        "    print('%4s %4s %5.2f %5.2f' % (i,j,model.c[i,j],pyo.value(model.x[i,j])))"
      ],
      "metadata": {
        "id": "518qlqFSv-8C"
      },
      "execution_count": null,
      "outputs": []
    },
    {
      "cell_type": "code",
      "source": [
        "#Display a customized table of output, but omit rows where the x-value is zero\n",
        "print('%4s %4s %5s %5s' % ('from','to','cost','units'))\n",
        "for i in model.I:\n",
        "  for j in model.J:\n",
        "    if (pyo.value(model.x[i,j]) > 0):\n",
        "      print('%4s %4s %5.2f %5.2f' % (i,j,model.c[i,j],pyo.value(model.x[i,j])))"
      ],
      "metadata": {
        "id": "d-yg2tKww8s0"
      },
      "execution_count": null,
      "outputs": []
    },
    {
      "cell_type": "markdown",
      "source": [
        "## Revisiting Example 2: Reading the Data from CSV"
      ],
      "metadata": {
        "id": "u2zzLYshFHlU"
      }
    },
    {
      "cell_type": "markdown",
      "source": [
        "### Reading the Data using Pandas"
      ],
      "metadata": {
        "id": "3rGiRc8tyd37"
      }
    },
    {
      "cell_type": "code",
      "source": [
        "# upload the L6-transportation_data csv files (one for transp costs, one for supplies, one for demands)\n",
        "from google.colab import files\n",
        "files.upload()"
      ],
      "metadata": {
        "id": "xX6ioU8a0Us1"
      },
      "execution_count": null,
      "outputs": []
    },
    {
      "cell_type": "code",
      "source": [
        "#Read cost data from CSV\n",
        "import pandas as pd\n",
        "# (path to data file, excel sheet in data file, row index of headers, col index of row labels)\n",
        "cost_df = pd.read_csv('L6-transportation_data_transp_costs.csv', header = 0, index_col = 0)\n",
        "cost_df.head()"
      ],
      "metadata": {
        "id": "bZeaQtcW0moM"
      },
      "execution_count": null,
      "outputs": []
    },
    {
      "cell_type": "code",
      "source": [
        "#Read supplies data from CSV\n",
        "supplies_df = pd.read_csv('L6-transportation_data_supplies.csv', header = 0, index_col = 0)\n",
        "supplies_df.head()"
      ],
      "metadata": {
        "id": "IisaYGe12E4v"
      },
      "execution_count": null,
      "outputs": []
    },
    {
      "cell_type": "code",
      "source": [
        "#Read demands data from CSV\n",
        "demands_df = pd.read_csv('L6-transportation_data_demands.csv', header = 0, index_col = 0)\n",
        "demands_df.head()"
      ],
      "metadata": {
        "id": "owva2T-o2pVU"
      },
      "execution_count": null,
      "outputs": []
    },
    {
      "cell_type": "markdown",
      "source": [
        "### Building and Solving the Model"
      ],
      "metadata": {
        "id": "RYNvR_XnFV2y"
      }
    },
    {
      "cell_type": "code",
      "source": [
        "#Clear the model\n",
        "model.clear()\n",
        "model.pprint()"
      ],
      "metadata": {
        "id": "R2kFs1Or3Bmm"
      },
      "execution_count": null,
      "outputs": []
    },
    {
      "cell_type": "code",
      "source": [
        "print(list(cost_df.index))\n",
        "print(list(cost_df.columns))"
      ],
      "metadata": {
        "id": "DEUe-U_b6CL0"
      },
      "execution_count": null,
      "outputs": []
    },
    {
      "cell_type": "code",
      "source": [
        "#Redefine the lists and dictionaries, this time using the data read in from CSV\n",
        "I = list(cost_df.index)\n",
        "J = list(cost_df.columns)\n",
        "c = {(i,j): cost_df.at[i,j] for i in I for j in J}\n",
        "b = {i: supplies_df.at[i, 'Supply'] for i in I}\n",
        "d = {j: demands_df.at[j, 'Demand'] for j in J}"
      ],
      "metadata": {
        "id": "4u798R6W3Mor"
      },
      "execution_count": null,
      "outputs": []
    },
    {
      "cell_type": "code",
      "source": [
        "#Define index sets for warehouses and customers\n",
        "model.I = pyo.Set(initialize = I) # set of warehouses\n",
        "model.J = pyo.Set(initialize = J) # set of customers"
      ],
      "metadata": {
        "id": "6Uk2ebXTPzz2"
      },
      "execution_count": null,
      "outputs": []
    },
    {
      "cell_type": "code",
      "source": [
        "#Define parameters c, b, and d\n",
        "model.b = pyo.Param(model.I,initialize = b)\n",
        "model.d = pyo.Param(model.J,initialize = d)\n",
        "model.c = pyo.Param(model.I,model.J,initialize = c)"
      ],
      "metadata": {
        "id": "NSU-quWpQJK8"
      },
      "execution_count": null,
      "outputs": []
    },
    {
      "cell_type": "code",
      "source": [
        "#Add x-variables to model\n",
        "model.x = pyo.Var(model.I, model.J, domain=pyo.NonNegativeReals)"
      ],
      "metadata": {
        "id": "WQvteOd27VUq"
      },
      "execution_count": null,
      "outputs": []
    },
    {
      "cell_type": "code",
      "source": [
        "#Define the objective\n",
        "def obj_rule_ex2(model):\n",
        "  return sum(model.c[i,j]*model.x[i,j] for i in model.I for j in model.J)\n",
        "\n",
        "model.obj = pyo.Objective(rule=obj_rule_ex2, sense=pyo.minimize)"
      ],
      "metadata": {
        "id": "qguStFob7n9Z"
      },
      "execution_count": null,
      "outputs": []
    },
    {
      "cell_type": "code",
      "source": [
        "#Add the supply limit constraints\n",
        "def supply_limit_rule(model,i):\n",
        "  return sum(model.x[i,j] for j in model.J) <= model.b[i]\n",
        "\n",
        "model.supply_limit = pyo.Constraint(model.I, rule=supply_limit_rule)"
      ],
      "metadata": {
        "id": "gQEms7tN7vk3"
      },
      "execution_count": null,
      "outputs": []
    },
    {
      "cell_type": "code",
      "source": [
        "#Add the demand requirement constraints\n",
        "def demand_rqmt_rule(model,j):\n",
        "  return sum(model.x[i,j] for i in model.I) >= model.d[j]\n",
        "\n",
        "model.deman_rqmt = pyo.Constraint(model.J, rule=demand_rqmt_rule)"
      ],
      "metadata": {
        "id": "wQ_px0vv7zUb"
      },
      "execution_count": null,
      "outputs": []
    },
    {
      "cell_type": "code",
      "source": [
        "#Declare the solver as CBC\n",
        "opt = pyo.SolverFactory('cbc')\n",
        "\n",
        "#Solve the model\n",
        "opt.solve(model).write()"
      ],
      "metadata": {
        "id": "SahcizYn7g07"
      },
      "execution_count": null,
      "outputs": []
    },
    {
      "cell_type": "markdown",
      "source": [
        "### Retrieving the Results"
      ],
      "metadata": {
        "id": "VeMq68fvFbpk"
      }
    },
    {
      "cell_type": "code",
      "source": [
        "#Display a customized table of output\n",
        "print('%12s %12s %5s %5s' % ('from','to','cost','units'))\n",
        "for i in model.I:\n",
        "  for j in model.J:\n",
        "    print('%12s %12s %5.2f %5.2f' % (i,j,model.c[i,j],pyo.value(model.x[i,j])))"
      ],
      "metadata": {
        "id": "rEljkJ0-8IaK"
      },
      "execution_count": null,
      "outputs": []
    },
    {
      "cell_type": "markdown",
      "source": [
        "## Revisting Example 2: Re-solving the model after changing a parameter's value."
      ],
      "metadata": {
        "id": "99Lt-sVj82aw"
      }
    },
    {
      "cell_type": "markdown",
      "source": [
        "Currently c[Wearhouse 4, Customer 5] = 20. What if this value increases."
      ],
      "metadata": {
        "id": "nTMY1QI29Et5"
      }
    },
    {
      "cell_type": "code",
      "source": [
        "model.clear()"
      ],
      "metadata": {
        "id": "kd0rpvGd80vy"
      },
      "execution_count": null,
      "outputs": []
    },
    {
      "cell_type": "code",
      "source": [
        "#Define index sets for warehouses and customers\n",
        "model.I = pyo.Set(initialize = I) # set of warehouses\n",
        "model.J = pyo.Set(initialize = J) # set of customers\n",
        "\n",
        "#Define parameters c, b, and d\n",
        "model.b = pyo.Param(model.I,initialize = b)\n",
        "model.d = pyo.Param(model.J,initialize = d)\n",
        "model.c = pyo.Param(model.I,model.J,initialize = c, mutable=True) #switching to mutable\n",
        "\n",
        "#Add x-variables to model\n",
        "model.x = pyo.Var(model.I, model.J, domain=pyo.NonNegativeReals)\n",
        "\n",
        "#Define the objective\n",
        "def obj_rule_ex2(model):\n",
        "  return sum(model.c[i,j]*model.x[i,j] for i in model.I for j in model.J)\n",
        "model.obj = pyo.Objective(rule=obj_rule_ex2, sense=pyo.minimize)\n",
        "\n",
        "#Add the supply limit constraints\n",
        "def supply_limit_rule(model,i):\n",
        "  return sum(model.x[i,j] for j in model.J) <= model.b[i]\n",
        "model.supply_limit = pyo.Constraint(model.I, rule=supply_limit_rule)\n",
        "\n",
        "#Add the demand requirement constraints\n",
        "def demand_rqmt_rule(model,j):\n",
        "  return sum(model.x[i,j] for i in model.I) >= model.d[j]\n",
        "model.deman_rqmt = pyo.Constraint(model.J, rule=demand_rqmt_rule)"
      ],
      "metadata": {
        "id": "pRxpASLH9bIe"
      },
      "execution_count": null,
      "outputs": []
    },
    {
      "cell_type": "code",
      "source": [
        "#Declare the solver as CBC\n",
        "opt = pyo.SolverFactory('cbc')\n",
        "\n",
        "#Solve the model\n",
        "opt.solve(model).write()"
      ],
      "metadata": {
        "id": "j6w2RnaQ9heM"
      },
      "execution_count": null,
      "outputs": []
    },
    {
      "cell_type": "code",
      "source": [
        "# solve for each value of c[4,5] in [20,...,27]\n",
        "for val in range(20,28):\n",
        "  model.c[('Warehouse 4', 'Customer 5')] = val\n",
        "  opt.solve(model)\n",
        "  print(\"c[4,5] = \", pyo.value(model.c[('Warehouse 4', 'Customer 5')]), \", objective = \", pyo.value(model.obj))"
      ],
      "metadata": {
        "id": "WpXlhXgf-Los"
      },
      "execution_count": null,
      "outputs": []
    }
  ]
}